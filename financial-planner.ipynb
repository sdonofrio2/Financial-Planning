{
 "cells": [
  {
   "cell_type": "markdown",
   "metadata": {},
   "source": [
    "# Unit 5 - Financial Planning"
   ]
  },
  {
   "cell_type": "code",
   "execution_count": 1,
   "metadata": {},
   "outputs": [],
   "source": [
    "# Initial imports\n",
    "import os\n",
    "import requests\n",
    "import pandas as pd\n",
    "from dotenv import load_dotenv\n",
    "import alpaca_trade_api as tradeapi\n",
    "from MCForecastTools import MCSimulation\n",
    "\n",
    "%matplotlib inline"
   ]
  },
  {
   "cell_type": "code",
   "execution_count": 2,
   "metadata": {},
   "outputs": [
    {
     "data": {
      "text/plain": [
       "True"
      ]
     },
     "execution_count": 2,
     "metadata": {},
     "output_type": "execute_result"
    }
   ],
   "source": [
    "# Load .env enviroment variables\n",
    "load_dotenv(\"../keys.env\")"
   ]
  },
  {
   "cell_type": "markdown",
   "metadata": {},
   "source": [
    "## Part 1 - Personal Finance Planner"
   ]
  },
  {
   "cell_type": "markdown",
   "metadata": {},
   "source": [
    "### Collect Crypto Prices Using the `requests` Library"
   ]
  },
  {
   "cell_type": "code",
   "execution_count": 3,
   "metadata": {},
   "outputs": [],
   "source": [
    "# Set current amount of crypto assets\n",
    "my_btc = 1.2\n",
    "my_eth = 5.3"
   ]
  },
  {
   "cell_type": "code",
   "execution_count": 4,
   "metadata": {},
   "outputs": [],
   "source": [
    "# Crypto API URLs\n",
    "btc_url = \"https://api.alternative.me/v2/ticker/Bitcoin/?convert=CAD\"\n",
    "eth_url = \"https://api.alternative.me/v2/ticker/Ethereum/?convert=CAD\""
   ]
  },
  {
   "cell_type": "code",
   "execution_count": 5,
   "metadata": {},
   "outputs": [
    {
     "name": "stdout",
     "output_type": "stream",
     "text": [
      "The current value of your 1.2 BTC is $74220.00\n",
      "The current value of your 5.3 ETH is $22940.89\n"
     ]
    }
   ],
   "source": [
    "# Fetch current BTC price\n",
    "btc_data = requests.get(btc_url).json()\n",
    "btc_price = float(btc_data['data']['1']['quotes']['USD']['price'])\n",
    "# Fetch current ETH price\n",
    "eth_data = requests.get(eth_url).json()\n",
    "eth_price = float(eth_data['data']['1027']['quotes']['USD']['price'])\n",
    "# Compute current value of my crpto\n",
    "my_btc_value = btc_price*my_btc\n",
    "my_eth_value = eth_price*my_eth\n",
    "\n",
    "# Print current crypto wallet balance\n",
    "print(f\"The current value of your {my_btc} BTC is ${my_btc_value:0.2f}\")\n",
    "print(f\"The current value of your {my_eth} ETH is ${my_eth_value:0.2f}\")"
   ]
  },
  {
   "cell_type": "markdown",
   "metadata": {},
   "source": [
    "### Collect Investments Data Using Alpaca: `SPY` (stocks) and `AGG` (bonds)"
   ]
  },
  {
   "cell_type": "code",
   "execution_count": 6,
   "metadata": {},
   "outputs": [],
   "source": [
    "# Set current amount of shares\n",
    "my_agg = 200\n",
    "my_spy = 50"
   ]
  },
  {
   "cell_type": "code",
   "execution_count": 7,
   "metadata": {},
   "outputs": [],
   "source": [
    "# Set Alpaca API key and secret\n",
    "alpaca_api_key = os.getenv(\"ALPACA_API_KEY\")\n",
    "alpaca_secret_key = os.getenv(\"ALPACA_SECRET_KEY\")\n",
    "# Create the Alpaca API object\n",
    "alpaca = tradeapi.REST(\n",
    "    alpaca_api_key,\n",
    "    alpaca_secret_key,\n",
    "    api_version = \"v2\"\n",
    ")"
   ]
  },
  {
   "cell_type": "code",
   "execution_count": 8,
   "metadata": {},
   "outputs": [
    {
     "data": {
      "text/html": [
       "<div>\n",
       "<style scoped>\n",
       "    .dataframe tbody tr th:only-of-type {\n",
       "        vertical-align: middle;\n",
       "    }\n",
       "\n",
       "    .dataframe tbody tr th {\n",
       "        vertical-align: top;\n",
       "    }\n",
       "\n",
       "    .dataframe thead tr th {\n",
       "        text-align: left;\n",
       "    }\n",
       "\n",
       "    .dataframe thead tr:last-of-type th {\n",
       "        text-align: right;\n",
       "    }\n",
       "</style>\n",
       "<table border=\"1\" class=\"dataframe\">\n",
       "  <thead>\n",
       "    <tr>\n",
       "      <th></th>\n",
       "      <th colspan=\"5\" halign=\"left\">AGG</th>\n",
       "      <th colspan=\"5\" halign=\"left\">SPY</th>\n",
       "    </tr>\n",
       "    <tr>\n",
       "      <th></th>\n",
       "      <th>open</th>\n",
       "      <th>high</th>\n",
       "      <th>low</th>\n",
       "      <th>close</th>\n",
       "      <th>volume</th>\n",
       "      <th>open</th>\n",
       "      <th>high</th>\n",
       "      <th>low</th>\n",
       "      <th>close</th>\n",
       "      <th>volume</th>\n",
       "    </tr>\n",
       "    <tr>\n",
       "      <th>time</th>\n",
       "      <th></th>\n",
       "      <th></th>\n",
       "      <th></th>\n",
       "      <th></th>\n",
       "      <th></th>\n",
       "      <th></th>\n",
       "      <th></th>\n",
       "      <th></th>\n",
       "      <th></th>\n",
       "      <th></th>\n",
       "    </tr>\n",
       "  </thead>\n",
       "  <tbody>\n",
       "    <tr>\n",
       "      <th>2021-10-29 00:00:00-04:00</th>\n",
       "      <td>114.35</td>\n",
       "      <td>114.78</td>\n",
       "      <td>114.35</td>\n",
       "      <td>114.62</td>\n",
       "      <td>7051614</td>\n",
       "      <td>455.87</td>\n",
       "      <td>459.56</td>\n",
       "      <td>455.56</td>\n",
       "      <td>459.22</td>\n",
       "      <td>58813207</td>\n",
       "    </tr>\n",
       "  </tbody>\n",
       "</table>\n",
       "</div>"
      ],
      "text/plain": [
       "                              AGG                                      SPY  \\\n",
       "                             open    high     low   close   volume    open   \n",
       "time                                                                         \n",
       "2021-10-29 00:00:00-04:00  114.35  114.78  114.35  114.62  7051614  455.87   \n",
       "\n",
       "                                                             \n",
       "                             high     low   close    volume  \n",
       "time                                                         \n",
       "2021-10-29 00:00:00-04:00  459.56  455.56  459.22  58813207  "
      ]
     },
     "execution_count": 8,
     "metadata": {},
     "output_type": "execute_result"
    }
   ],
   "source": [
    "# Format current date as ISO format\n",
    "today = pd.Timestamp('2021-10-29', tz=\"America/New_York\").isoformat()\n",
    "\n",
    "# Set the tickers\n",
    "tickers = [\"AGG\", \"SPY\"]\n",
    "\n",
    "# Set timeframe to '1D' for Alpaca API\n",
    "timeframe = \"1D\"\n",
    "\n",
    "# Get current closing prices for SPY and AGG\n",
    "# (use a limit=1000 parameter to call the most recent 1000 days of data)\n",
    "spy_agg_price = alpaca.get_barset(\n",
    "    tickers,\n",
    "    timeframe,\n",
    "    limit=1000, \n",
    "    start =today,\n",
    "    end = today).df\n",
    "\n",
    "# Preview DataFrame\n",
    "spy_agg_price.head()"
   ]
  },
  {
   "cell_type": "code",
   "execution_count": 9,
   "metadata": {},
   "outputs": [
    {
     "name": "stdout",
     "output_type": "stream",
     "text": [
      "Current AGG closing price: $114.62\n",
      "Current SPY closing price: $459.22\n"
     ]
    }
   ],
   "source": [
    "# Pick AGG and SPY close prices\n",
    "agg_close_price = spy_agg_price.iloc[0]['AGG']['close']\n",
    "spy_close_price = spy_agg_price.iloc[0]['SPY']['close']\n",
    "# Print AGG and SPY close prices\n",
    "print(f\"Current AGG closing price: ${agg_close_price}\")\n",
    "print(f\"Current SPY closing price: ${spy_close_price}\")"
   ]
  },
  {
   "cell_type": "code",
   "execution_count": 10,
   "metadata": {},
   "outputs": [
    {
     "name": "stdout",
     "output_type": "stream",
     "text": [
      "The current value of your 50 SPY shares is $22961.00\n",
      "The current value of your 200 AGG shares is $22924.00\n"
     ]
    }
   ],
   "source": [
    "# Compute the current value of shares\n",
    "my_spy_value = spy_close_price * my_spy\n",
    "my_agg_value = agg_close_price * my_agg\n",
    "\n",
    "# Print current value of shares\n",
    "print(f\"The current value of your {my_spy} SPY shares is ${my_spy_value:0.2f}\")\n",
    "print(f\"The current value of your {my_agg} AGG shares is ${my_agg_value:0.2f}\")"
   ]
  },
  {
   "cell_type": "markdown",
   "metadata": {},
   "source": [
    "### Savings Health Analysis"
   ]
  },
  {
   "cell_type": "code",
   "execution_count": 11,
   "metadata": {},
   "outputs": [
    {
     "data": {
      "text/html": [
       "<div>\n",
       "<style scoped>\n",
       "    .dataframe tbody tr th:only-of-type {\n",
       "        vertical-align: middle;\n",
       "    }\n",
       "\n",
       "    .dataframe tbody tr th {\n",
       "        vertical-align: top;\n",
       "    }\n",
       "\n",
       "    .dataframe thead th {\n",
       "        text-align: right;\n",
       "    }\n",
       "</style>\n",
       "<table border=\"1\" class=\"dataframe\">\n",
       "  <thead>\n",
       "    <tr style=\"text-align: right;\">\n",
       "      <th></th>\n",
       "      <th>amount</th>\n",
       "    </tr>\n",
       "  </thead>\n",
       "  <tbody>\n",
       "    <tr>\n",
       "      <th>crypto</th>\n",
       "      <td>97160.891</td>\n",
       "    </tr>\n",
       "    <tr>\n",
       "      <th>shares</th>\n",
       "      <td>45885.000</td>\n",
       "    </tr>\n",
       "  </tbody>\n",
       "</table>\n",
       "</div>"
      ],
      "text/plain": [
       "           amount\n",
       "crypto  97160.891\n",
       "shares  45885.000"
      ]
     },
     "execution_count": 11,
     "metadata": {},
     "output_type": "execute_result"
    }
   ],
   "source": [
    "# Set monthly household income\n",
    "monthly_income = 12000\n",
    "\n",
    "# Consolidate financial assets data\n",
    "df_savings= {\n",
    "    \"crypto\": my_btc_value+my_eth_value,\n",
    "    \"shares\":my_spy_value+my_agg_value}\n",
    "\n",
    "# Create savings DataFrame\n",
    "df_savings= pd.DataFrame.from_dict(data=df_savings, orient='index')\n",
    "df_savings.columns = ['amount']\n",
    "# Display savings DataFrame\n",
    "df_savings.head()\n"
   ]
  },
  {
   "cell_type": "code",
   "execution_count": 12,
   "metadata": {},
   "outputs": [
    {
     "data": {
      "text/plain": [
       "<AxesSubplot:ylabel='amount'>"
      ]
     },
     "execution_count": 12,
     "metadata": {},
     "output_type": "execute_result"
    },
    {
     "data": {
      "image/png": "[encoded data removed]",
      "text/plain": [
       "<Figure size 432x288 with 1 Axes>"
      ]
     },
     "metadata": {},
     "output_type": "display_data"
    }
   ],
   "source": [
    "# Plot savings pie chart\n",
    "df_savings.plot.pie(y='amount')"
   ]
  },
  {
   "cell_type": "code",
   "execution_count": 21,
   "metadata": {},
   "outputs": [
    {
     "name": "stdout",
     "output_type": "stream",
     "text": [
      "Congrats, you have enough money!\n"
     ]
    }
   ],
   "source": [
    "# Set ideal emergency fund\n",
    "emergency_fund = monthly_income * 3\n",
    "\n",
    "# Calculate total amount of savings\n",
    "total_savings = df_savings['amount'].sum()\n",
    "\n",
    "\n",
    "# Validate saving health\n",
    "if total_savings > emergency_fund:\n",
    "    print('Congrats, you have enough money!')\n",
    "elif total_savings == emergency_fund:\n",
    "    print('Congrats, you have reached your goal!')\n",
    "else:\n",
    "    print(f'You are {emergency_fund-total_savings} away from your goal')"
   ]
  },
  {
   "cell_type": "markdown",
   "metadata": {},
   "source": [
    "## Part 2 - Retirement Planning\n",
    "\n",
    "### Monte Carlo Simulation"
   ]
  },
  {
   "cell_type": "code",
   "execution_count": 22,
   "metadata": {},
   "outputs": [],
   "source": [
    "# Set start and end dates of five years back from today.\n",
    "# Sample results may vary from the solution based on the time frame chosen\n",
    "start_date = pd.Timestamp('2016-05-01', tz='America/New_York').isoformat()\n",
    "end_date = pd.Timestamp('2021-05-01', tz='America/New_York').isoformat()"
   ]
  },
  {
   "cell_type": "code",
   "execution_count": 23,
   "metadata": {},
   "outputs": [
    {
     "data": {
      "text/html": [
       "<div>\n",
       "<style scoped>\n",
       "    .dataframe tbody tr th:only-of-type {\n",
       "        vertical-align: middle;\n",
       "    }\n",
       "\n",
       "    .dataframe tbody tr th {\n",
       "        vertical-align: top;\n",
       "    }\n",
       "\n",
       "    .dataframe thead tr th {\n",
       "        text-align: left;\n",
       "    }\n",
       "\n",
       "    .dataframe thead tr:last-of-type th {\n",
       "        text-align: right;\n",
       "    }\n",
       "</style>\n",
       "<table border=\"1\" class=\"dataframe\">\n",
       "  <thead>\n",
       "    <tr>\n",
       "      <th></th>\n",
       "      <th colspan=\"5\" halign=\"left\">AGG</th>\n",
       "      <th colspan=\"5\" halign=\"left\">SPY</th>\n",
       "    </tr>\n",
       "    <tr>\n",
       "      <th></th>\n",
       "      <th>open</th>\n",
       "      <th>high</th>\n",
       "      <th>low</th>\n",
       "      <th>close</th>\n",
       "      <th>volume</th>\n",
       "      <th>open</th>\n",
       "      <th>high</th>\n",
       "      <th>low</th>\n",
       "      <th>close</th>\n",
       "      <th>volume</th>\n",
       "    </tr>\n",
       "    <tr>\n",
       "      <th>time</th>\n",
       "      <th></th>\n",
       "      <th></th>\n",
       "      <th></th>\n",
       "      <th></th>\n",
       "      <th></th>\n",
       "      <th></th>\n",
       "      <th></th>\n",
       "      <th></th>\n",
       "      <th></th>\n",
       "      <th></th>\n",
       "    </tr>\n",
       "  </thead>\n",
       "  <tbody>\n",
       "    <tr>\n",
       "      <th>2017-05-10 00:00:00-04:00</th>\n",
       "      <td>108.60</td>\n",
       "      <td>108.660</td>\n",
       "      <td>108.4400</td>\n",
       "      <td>108.520</td>\n",
       "      <td>1427511.0</td>\n",
       "      <td>NaN</td>\n",
       "      <td>NaN</td>\n",
       "      <td>NaN</td>\n",
       "      <td>NaN</td>\n",
       "      <td>NaN</td>\n",
       "    </tr>\n",
       "    <tr>\n",
       "      <th>2017-05-11 00:00:00-04:00</th>\n",
       "      <td>108.35</td>\n",
       "      <td>108.540</td>\n",
       "      <td>108.3435</td>\n",
       "      <td>108.515</td>\n",
       "      <td>1773499.0</td>\n",
       "      <td>239.35</td>\n",
       "      <td>239.57</td>\n",
       "      <td>238.13</td>\n",
       "      <td>239.410</td>\n",
       "      <td>45435690.0</td>\n",
       "    </tr>\n",
       "    <tr>\n",
       "      <th>2017-05-12 00:00:00-04:00</th>\n",
       "      <td>108.81</td>\n",
       "      <td>108.940</td>\n",
       "      <td>108.7800</td>\n",
       "      <td>108.920</td>\n",
       "      <td>1136553.0</td>\n",
       "      <td>239.09</td>\n",
       "      <td>239.21</td>\n",
       "      <td>238.67</td>\n",
       "      <td>239.030</td>\n",
       "      <td>35283567.0</td>\n",
       "    </tr>\n",
       "    <tr>\n",
       "      <th>2017-05-15 00:00:00-04:00</th>\n",
       "      <td>108.85</td>\n",
       "      <td>108.940</td>\n",
       "      <td>108.8200</td>\n",
       "      <td>108.890</td>\n",
       "      <td>1620264.0</td>\n",
       "      <td>239.47</td>\n",
       "      <td>240.44</td>\n",
       "      <td>239.45</td>\n",
       "      <td>240.245</td>\n",
       "      <td>42230620.0</td>\n",
       "    </tr>\n",
       "    <tr>\n",
       "      <th>2017-05-16 00:00:00-04:00</th>\n",
       "      <td>108.88</td>\n",
       "      <td>109.101</td>\n",
       "      <td>108.8800</td>\n",
       "      <td>109.000</td>\n",
       "      <td>1394153.0</td>\n",
       "      <td>240.62</td>\n",
       "      <td>240.67</td>\n",
       "      <td>239.63</td>\n",
       "      <td>240.100</td>\n",
       "      <td>37206183.0</td>\n",
       "    </tr>\n",
       "  </tbody>\n",
       "</table>\n",
       "</div>"
      ],
      "text/plain": [
       "                              AGG                                         \\\n",
       "                             open     high       low    close     volume   \n",
       "time                                                                       \n",
       "2017-05-10 00:00:00-04:00  108.60  108.660  108.4400  108.520  1427511.0   \n",
       "2017-05-11 00:00:00-04:00  108.35  108.540  108.3435  108.515  1773499.0   \n",
       "2017-05-12 00:00:00-04:00  108.81  108.940  108.7800  108.920  1136553.0   \n",
       "2017-05-15 00:00:00-04:00  108.85  108.940  108.8200  108.890  1620264.0   \n",
       "2017-05-16 00:00:00-04:00  108.88  109.101  108.8800  109.000  1394153.0   \n",
       "\n",
       "                              SPY                                       \n",
       "                             open    high     low    close      volume  \n",
       "time                                                                    \n",
       "2017-05-10 00:00:00-04:00     NaN     NaN     NaN      NaN         NaN  \n",
       "2017-05-11 00:00:00-04:00  239.35  239.57  238.13  239.410  45435690.0  \n",
       "2017-05-12 00:00:00-04:00  239.09  239.21  238.67  239.030  35283567.0  \n",
       "2017-05-15 00:00:00-04:00  239.47  240.44  239.45  240.245  42230620.0  \n",
       "2017-05-16 00:00:00-04:00  240.62  240.67  239.63  240.100  37206183.0  "
      ]
     },
     "execution_count": 23,
     "metadata": {},
     "output_type": "execute_result"
    }
   ],
   "source": [
    "# Get 5 years' worth of historical data for SPY and AGG\n",
    "df_stock_data = alpaca.get_barset(\n",
    "    tickers,\n",
    "    timeframe,\n",
    "    start = start_date,\n",
    "    end = end_date,\n",
    "    limit = 1000\n",
    ").df\n",
    "\n",
    "# Display sample data\n",
    "df_stock_data.head()"
   ]
  },
  {
   "cell_type": "code",
   "execution_count": 42,
   "metadata": {},
   "outputs": [],
   "source": [
    "# Configuring a Monte Carlo simulation to forecast 30 years cumulative returns\n",
    "monte_carlo = MCSimulation(\n",
    "    portfolio_data = df_stock_data,\n",
    "    weights=[.4,.6],\n",
    "    num_simulation=500,\n",
    "    num_trading_days=252*30)"
   ]
  },
  {
   "cell_type": "code",
   "execution_count": 43,
   "metadata": {},
   "outputs": [
    {
     "data": {
      "text/html": [
       "<div>\n",
       "<style scoped>\n",
       "    .dataframe tbody tr th:only-of-type {\n",
       "        vertical-align: middle;\n",
       "    }\n",
       "\n",
       "    .dataframe tbody tr th {\n",
       "        vertical-align: top;\n",
       "    }\n",
       "\n",
       "    .dataframe thead tr th {\n",
       "        text-align: left;\n",
       "    }\n",
       "\n",
       "    .dataframe thead tr:last-of-type th {\n",
       "        text-align: right;\n",
       "    }\n",
       "</style>\n",
       "<table border=\"1\" class=\"dataframe\">\n",
       "  <thead>\n",
       "    <tr>\n",
       "      <th></th>\n",
       "      <th colspan=\"6\" halign=\"left\">AGG</th>\n",
       "      <th colspan=\"6\" halign=\"left\">SPY</th>\n",
       "    </tr>\n",
       "    <tr>\n",
       "      <th></th>\n",
       "      <th>open</th>\n",
       "      <th>high</th>\n",
       "      <th>low</th>\n",
       "      <th>close</th>\n",
       "      <th>volume</th>\n",
       "      <th>daily_return</th>\n",
       "      <th>open</th>\n",
       "      <th>high</th>\n",
       "      <th>low</th>\n",
       "      <th>close</th>\n",
       "      <th>volume</th>\n",
       "      <th>daily_return</th>\n",
       "    </tr>\n",
       "    <tr>\n",
       "      <th>time</th>\n",
       "      <th></th>\n",
       "      <th></th>\n",
       "      <th></th>\n",
       "      <th></th>\n",
       "      <th></th>\n",
       "      <th></th>\n",
       "      <th></th>\n",
       "      <th></th>\n",
       "      <th></th>\n",
       "      <th></th>\n",
       "      <th></th>\n",
       "      <th></th>\n",
       "    </tr>\n",
       "  </thead>\n",
       "  <tbody>\n",
       "    <tr>\n",
       "      <th>2017-05-10 00:00:00-04:00</th>\n",
       "      <td>108.60</td>\n",
       "      <td>108.660</td>\n",
       "      <td>108.4400</td>\n",
       "      <td>108.520</td>\n",
       "      <td>1427511.0</td>\n",
       "      <td>NaN</td>\n",
       "      <td>NaN</td>\n",
       "      <td>NaN</td>\n",
       "      <td>NaN</td>\n",
       "      <td>NaN</td>\n",
       "      <td>NaN</td>\n",
       "      <td>NaN</td>\n",
       "    </tr>\n",
       "    <tr>\n",
       "      <th>2017-05-11 00:00:00-04:00</th>\n",
       "      <td>108.35</td>\n",
       "      <td>108.540</td>\n",
       "      <td>108.3435</td>\n",
       "      <td>108.515</td>\n",
       "      <td>1773499.0</td>\n",
       "      <td>-0.000046</td>\n",
       "      <td>239.35</td>\n",
       "      <td>239.57</td>\n",
       "      <td>238.13</td>\n",
       "      <td>239.410</td>\n",
       "      <td>45435690.0</td>\n",
       "      <td>NaN</td>\n",
       "    </tr>\n",
       "    <tr>\n",
       "      <th>2017-05-12 00:00:00-04:00</th>\n",
       "      <td>108.81</td>\n",
       "      <td>108.940</td>\n",
       "      <td>108.7800</td>\n",
       "      <td>108.920</td>\n",
       "      <td>1136553.0</td>\n",
       "      <td>0.003732</td>\n",
       "      <td>239.09</td>\n",
       "      <td>239.21</td>\n",
       "      <td>238.67</td>\n",
       "      <td>239.030</td>\n",
       "      <td>35283567.0</td>\n",
       "      <td>-0.001587</td>\n",
       "    </tr>\n",
       "    <tr>\n",
       "      <th>2017-05-15 00:00:00-04:00</th>\n",
       "      <td>108.85</td>\n",
       "      <td>108.940</td>\n",
       "      <td>108.8200</td>\n",
       "      <td>108.890</td>\n",
       "      <td>1620264.0</td>\n",
       "      <td>-0.000275</td>\n",
       "      <td>239.47</td>\n",
       "      <td>240.44</td>\n",
       "      <td>239.45</td>\n",
       "      <td>240.245</td>\n",
       "      <td>42230620.0</td>\n",
       "      <td>0.005083</td>\n",
       "    </tr>\n",
       "    <tr>\n",
       "      <th>2017-05-16 00:00:00-04:00</th>\n",
       "      <td>108.88</td>\n",
       "      <td>109.101</td>\n",
       "      <td>108.8800</td>\n",
       "      <td>109.000</td>\n",
       "      <td>1394153.0</td>\n",
       "      <td>0.001010</td>\n",
       "      <td>240.62</td>\n",
       "      <td>240.67</td>\n",
       "      <td>239.63</td>\n",
       "      <td>240.100</td>\n",
       "      <td>37206183.0</td>\n",
       "      <td>-0.000604</td>\n",
       "    </tr>\n",
       "  </tbody>\n",
       "</table>\n",
       "</div>"
      ],
      "text/plain": [
       "                              AGG                                         \\\n",
       "                             open     high       low    close     volume   \n",
       "time                                                                       \n",
       "2017-05-10 00:00:00-04:00  108.60  108.660  108.4400  108.520  1427511.0   \n",
       "2017-05-11 00:00:00-04:00  108.35  108.540  108.3435  108.515  1773499.0   \n",
       "2017-05-12 00:00:00-04:00  108.81  108.940  108.7800  108.920  1136553.0   \n",
       "2017-05-15 00:00:00-04:00  108.85  108.940  108.8200  108.890  1620264.0   \n",
       "2017-05-16 00:00:00-04:00  108.88  109.101  108.8800  109.000  1394153.0   \n",
       "\n",
       "                                           SPY                           \\\n",
       "                          daily_return    open    high     low    close   \n",
       "time                                                                      \n",
       "2017-05-10 00:00:00-04:00          NaN     NaN     NaN     NaN      NaN   \n",
       "2017-05-11 00:00:00-04:00    -0.000046  239.35  239.57  238.13  239.410   \n",
       "2017-05-12 00:00:00-04:00     0.003732  239.09  239.21  238.67  239.030   \n",
       "2017-05-15 00:00:00-04:00    -0.000275  239.47  240.44  239.45  240.245   \n",
       "2017-05-16 00:00:00-04:00     0.001010  240.62  240.67  239.63  240.100   \n",
       "\n",
       "                                                    \n",
       "                               volume daily_return  \n",
       "time                                                \n",
       "2017-05-10 00:00:00-04:00         NaN          NaN  \n",
       "2017-05-11 00:00:00-04:00  45435690.0          NaN  \n",
       "2017-05-12 00:00:00-04:00  35283567.0    -0.001587  \n",
       "2017-05-15 00:00:00-04:00  42230620.0     0.005083  \n",
       "2017-05-16 00:00:00-04:00  37206183.0    -0.000604  "
      ]
     },
     "execution_count": 43,
     "metadata": {},
     "output_type": "execute_result"
    }
   ],
   "source": [
    "# Printing the simulation input data\n",
    "monte_carlo.portfolio_data.head()"
   ]
  },
  {
   "cell_type": "code",
   "execution_count": 44,
   "metadata": {},
   "outputs": [
    {
     "name": "stdout",
     "output_type": "stream",
     "text": [
      "Running Monte Carlo simulation number 0.\n",
      "Running Monte Carlo simulation number 10.\n",
      "Running Monte Carlo simulation number 20.\n",
      "Running Monte Carlo simulation number 30.\n",
      "Running Monte Carlo simulation number 40.\n",
      "Running Monte Carlo simulation number 50.\n",
      "Running Monte Carlo simulation number 60.\n",
      "Running Monte Carlo simulation number 70.\n",
      "Running Monte Carlo simulation number 80.\n",
      "Running Monte Carlo simulation number 90.\n",
      "Running Monte Carlo simulation number 100.\n"
     ]
    },
    {
     "name": "stderr",
     "output_type": "stream",
     "text": [
      "C:\\Users\\Sarah\\desktop\\Homework\\Homework-5---Financial-Planning\\MCForecastTools.py:117: PerformanceWarning: DataFrame is highly fragmented.  This is usually the result of calling `frame.insert` many times, which has poor performance.  Consider joining all columns at once using pd.concat(axis=1) instead.  To get a de-fragmented frame, use `newframe = frame.copy()`\n",
      "  portfolio_cumulative_returns[n] = (1 + sim_df.fillna(0)).cumprod()\n"
     ]
    },
    {
     "name": "stdout",
     "output_type": "stream",
     "text": [
      "Running Monte Carlo simulation number 110.\n",
      "Running Monte Carlo simulation number 120.\n",
      "Running Monte Carlo simulation number 130.\n",
      "Running Monte Carlo simulation number 140.\n",
      "Running Monte Carlo simulation number 150.\n",
      "Running Monte Carlo simulation number 160.\n",
      "Running Monte Carlo simulation number 170.\n",
      "Running Monte Carlo simulation number 180.\n",
      "Running Monte Carlo simulation number 190.\n",
      "Running Monte Carlo simulation number 200.\n",
      "Running Monte Carlo simulation number 210.\n",
      "Running Monte Carlo simulation number 220.\n",
      "Running Monte Carlo simulation number 230.\n",
      "Running Monte Carlo simulation number 240.\n",
      "Running Monte Carlo simulation number 250.\n",
      "Running Monte Carlo simulation number 260.\n",
      "Running Monte Carlo simulation number 270.\n",
      "Running Monte Carlo simulation number 280.\n",
      "Running Monte Carlo simulation number 290.\n",
      "Running Monte Carlo simulation number 300.\n",
      "Running Monte Carlo simulation number 310.\n",
      "Running Monte Carlo simulation number 320.\n",
      "Running Monte Carlo simulation number 330.\n",
      "Running Monte Carlo simulation number 340.\n",
      "Running Monte Carlo simulation number 350.\n",
      "Running Monte Carlo simulation number 360.\n",
      "Running Monte Carlo simulation number 370.\n",
      "Running Monte Carlo simulation number 380.\n",
      "Running Monte Carlo simulation number 390.\n",
      "Running Monte Carlo simulation number 400.\n",
      "Running Monte Carlo simulation number 410.\n",
      "Running Monte Carlo simulation number 420.\n",
      "Running Monte Carlo simulation number 430.\n",
      "Running Monte Carlo simulation number 440.\n",
      "Running Monte Carlo simulation number 450.\n",
      "Running Monte Carlo simulation number 460.\n",
      "Running Monte Carlo simulation number 470.\n",
      "Running Monte Carlo simulation number 480.\n",
      "Running Monte Carlo simulation number 490.\n"
     ]
    }
   ],
   "source": [
    "# Running a Monte Carlo simulation to forecast 30 years cumulative returns\n",
    "monte_carlo_simulation = monte_carlo.calc_cumulative_return()"
   ]
  },
  {
   "cell_type": "code",
   "execution_count": 47,
   "metadata": {},
   "outputs": [
    {
     "data": {
      "image/png": "[encoded data removed]",
      "text/plain": [
       "<Figure size 432x288 with 1 Axes>"
      ]
     },
     "metadata": {
      "needs_background": "light"
     },
     "output_type": "display_data"
    }
   ],
   "source": [
    "# Plot simulation outcomes\n",
    "lineplot = monte_carlo.plot_simulation()"
   ]
  },
  {
   "cell_type": "code",
   "execution_count": 48,
   "metadata": {},
   "outputs": [
    {
     "data": {
      "image/png": "[encoded data removed]",
      "text/plain": [
       "<Figure size 432x288 with 1 Axes>"
      ]
     },
     "metadata": {
      "needs_background": "light"
     },
     "output_type": "display_data"
    }
   ],
   "source": [
    "# Plot probability distribution and confidence intervals\n",
    "dist_plot = monte_carlo.plot_distribution()"
   ]
  },
  {
   "cell_type": "markdown",
   "metadata": {},
   "source": [
    "### Retirement Analysis"
   ]
  },
  {
   "cell_type": "code",
   "execution_count": 49,
   "metadata": {},
   "outputs": [
    {
     "name": "stdout",
     "output_type": "stream",
     "text": [
      "count           500.000000\n",
      "mean             22.116307\n",
      "std              16.698194\n",
      "min               1.765840\n",
      "25%              10.883669\n",
      "50%              17.955024\n",
      "75%              27.921252\n",
      "max             130.696572\n",
      "95% CI Lower      5.115967\n",
      "95% CI Upper     70.158155\n",
      "Name: 7560, dtype: float64\n"
     ]
    }
   ],
   "source": [
    "# Fetch summary statistics from the Monte Carlo simulation results\n",
    "tbl = monte_carlo.summarize_cumulative_return()\n",
    "# Print summary statistics\n",
    "print(tbl)"
   ]
  },
  {
   "cell_type": "markdown",
   "metadata": {},
   "source": [
    "### Calculate the expected portfolio return at the `95%` lower and upper confidence intervals based on a `$20,000` initial investment."
   ]
  },
  {
   "cell_type": "code",
   "execution_count": 50,
   "metadata": {},
   "outputs": [
    {
     "name": "stdout",
     "output_type": "stream",
     "text": [
      "There is a 95% chance that an initial investment of $20000 in the portfolio over the next 30 years will end within in the range of $102319.34 and $1403163.11\n"
     ]
    }
   ],
   "source": [
    "# Set initial investment\n",
    "initial_investment = 20000\n",
    "\n",
    "# Use the lower and upper `95%` confidence intervals to calculate the range of the possible outcomes of our $20,000\n",
    "ci_lower = round(tbl[8]*initial_investment,2)\n",
    "ci_upper = round(tbl[9]*initial_investment,2)\n",
    "\n",
    "# Print results\n",
    "print(f\"There is a 95% chance that an initial investment of ${initial_investment} in the portfolio\"\n",
    "      f\" over the next 30 years will end within in the range of\"\n",
    "      f\" ${ci_lower} and ${ci_upper}\")"
   ]
  },
  {
   "cell_type": "markdown",
   "metadata": {},
   "source": [
    "### Calculate the expected portfolio return at the `95%` lower and upper confidence intervals based on a `50%` increase in the initial investment."
   ]
  },
  {
   "cell_type": "code",
   "execution_count": 51,
   "metadata": {},
   "outputs": [
    {
     "name": "stdout",
     "output_type": "stream",
     "text": [
      "There is a 95% chance that an initial investment of $30000.0 in the portfolio over the next 30 years will end within in the range of $153479.0 and $2104744.66\n"
     ]
    }
   ],
   "source": [
    "# Set initial investment\n",
    "initial_investment = 20000 * 1.5\n",
    "\n",
    "# Use the lower and upper `95%` confidence intervals to calculate the range of the possible outcomes of our $30,000\n",
    "ci_lower = round(tbl[8]*initial_investment,2)\n",
    "ci_upper = round(tbl[9]*initial_investment,2)\n",
    "\n",
    "# Print results\n",
    "print(f\"There is a 95% chance that an initial investment of ${initial_investment} in the portfolio\"\n",
    "      f\" over the next 30 years will end within in the range of\"\n",
    "      f\" ${ci_lower} and ${ci_upper}\")"
   ]
  },
  {
   "cell_type": "markdown",
   "metadata": {},
   "source": [
    "## Optional Challenge - Early Retirement\n",
    "\n",
    "\n",
    "### Five Years Retirement Option"
   ]
  },
  {
   "cell_type": "code",
   "execution_count": 52,
   "metadata": {},
   "outputs": [],
   "source": [
    "# Configuring a Monte Carlo simulation to forecast 5 years cumulative returns\n",
    "monte_carlo2= MCSimulation(\n",
    "    portfolio_data = df_stock_data,\n",
    "    weights = [.4, .6],\n",
    "    num_simulation = 500,\n",
    "    num_trading_days = 252*5\n",
    ")"
   ]
  },
  {
   "cell_type": "code",
   "execution_count": 53,
   "metadata": {},
   "outputs": [
    {
     "name": "stdout",
     "output_type": "stream",
     "text": [
      "Running Monte Carlo simulation number 0.\n",
      "Running Monte Carlo simulation number 10.\n",
      "Running Monte Carlo simulation number 20.\n",
      "Running Monte Carlo simulation number 30.\n",
      "Running Monte Carlo simulation number 40.\n",
      "Running Monte Carlo simulation number 50.\n",
      "Running Monte Carlo simulation number 60.\n",
      "Running Monte Carlo simulation number 70.\n",
      "Running Monte Carlo simulation number 80.\n",
      "Running Monte Carlo simulation number 90.\n",
      "Running Monte Carlo simulation number 100.\n"
     ]
    },
    {
     "name": "stderr",
     "output_type": "stream",
     "text": [
      "C:\\Users\\Sarah\\desktop\\Homework\\Homework-5---Financial-Planning\\MCForecastTools.py:117: PerformanceWarning: DataFrame is highly fragmented.  This is usually the result of calling `frame.insert` many times, which has poor performance.  Consider joining all columns at once using pd.concat(axis=1) instead.  To get a de-fragmented frame, use `newframe = frame.copy()`\n",
      "  portfolio_cumulative_returns[n] = (1 + sim_df.fillna(0)).cumprod()\n"
     ]
    },
    {
     "name": "stdout",
     "output_type": "stream",
     "text": [
      "Running Monte Carlo simulation number 110.\n",
      "Running Monte Carlo simulation number 120.\n",
      "Running Monte Carlo simulation number 130.\n",
      "Running Monte Carlo simulation number 140.\n",
      "Running Monte Carlo simulation number 150.\n",
      "Running Monte Carlo simulation number 160.\n",
      "Running Monte Carlo simulation number 170.\n",
      "Running Monte Carlo simulation number 180.\n",
      "Running Monte Carlo simulation number 190.\n",
      "Running Monte Carlo simulation number 200.\n",
      "Running Monte Carlo simulation number 210.\n",
      "Running Monte Carlo simulation number 220.\n",
      "Running Monte Carlo simulation number 230.\n",
      "Running Monte Carlo simulation number 240.\n",
      "Running Monte Carlo simulation number 250.\n",
      "Running Monte Carlo simulation number 260.\n",
      "Running Monte Carlo simulation number 270.\n",
      "Running Monte Carlo simulation number 280.\n",
      "Running Monte Carlo simulation number 290.\n",
      "Running Monte Carlo simulation number 300.\n",
      "Running Monte Carlo simulation number 310.\n",
      "Running Monte Carlo simulation number 320.\n",
      "Running Monte Carlo simulation number 330.\n",
      "Running Monte Carlo simulation number 340.\n",
      "Running Monte Carlo simulation number 350.\n",
      "Running Monte Carlo simulation number 360.\n",
      "Running Monte Carlo simulation number 370.\n",
      "Running Monte Carlo simulation number 380.\n",
      "Running Monte Carlo simulation number 390.\n",
      "Running Monte Carlo simulation number 400.\n",
      "Running Monte Carlo simulation number 410.\n",
      "Running Monte Carlo simulation number 420.\n",
      "Running Monte Carlo simulation number 430.\n",
      "Running Monte Carlo simulation number 440.\n",
      "Running Monte Carlo simulation number 450.\n",
      "Running Monte Carlo simulation number 460.\n",
      "Running Monte Carlo simulation number 470.\n",
      "Running Monte Carlo simulation number 480.\n",
      "Running Monte Carlo simulation number 490.\n"
     ]
    },
    {
     "data": {
      "text/html": [
       "<div>\n",
       "<style scoped>\n",
       "    .dataframe tbody tr th:only-of-type {\n",
       "        vertical-align: middle;\n",
       "    }\n",
       "\n",
       "    .dataframe tbody tr th {\n",
       "        vertical-align: top;\n",
       "    }\n",
       "\n",
       "    .dataframe thead th {\n",
       "        text-align: right;\n",
       "    }\n",
       "</style>\n",
       "<table border=\"1\" class=\"dataframe\">\n",
       "  <thead>\n",
       "    <tr style=\"text-align: right;\">\n",
       "      <th></th>\n",
       "      <th>0</th>\n",
       "      <th>1</th>\n",
       "      <th>2</th>\n",
       "      <th>3</th>\n",
       "      <th>4</th>\n",
       "      <th>5</th>\n",
       "      <th>6</th>\n",
       "      <th>7</th>\n",
       "      <th>8</th>\n",
       "      <th>9</th>\n",
       "      <th>...</th>\n",
       "      <th>490</th>\n",
       "      <th>491</th>\n",
       "      <th>492</th>\n",
       "      <th>493</th>\n",
       "      <th>494</th>\n",
       "      <th>495</th>\n",
       "      <th>496</th>\n",
       "      <th>497</th>\n",
       "      <th>498</th>\n",
       "      <th>499</th>\n",
       "    </tr>\n",
       "  </thead>\n",
       "  <tbody>\n",
       "    <tr>\n",
       "      <th>0</th>\n",
       "      <td>1.000000</td>\n",
       "      <td>1.000000</td>\n",
       "      <td>1.000000</td>\n",
       "      <td>1.000000</td>\n",
       "      <td>1.000000</td>\n",
       "      <td>1.000000</td>\n",
       "      <td>1.000000</td>\n",
       "      <td>1.000000</td>\n",
       "      <td>1.000000</td>\n",
       "      <td>1.000000</td>\n",
       "      <td>...</td>\n",
       "      <td>1.000000</td>\n",
       "      <td>1.000000</td>\n",
       "      <td>1.000000</td>\n",
       "      <td>1.000000</td>\n",
       "      <td>1.000000</td>\n",
       "      <td>1.000000</td>\n",
       "      <td>1.000000</td>\n",
       "      <td>1.000000</td>\n",
       "      <td>1.000000</td>\n",
       "      <td>1.000000</td>\n",
       "    </tr>\n",
       "    <tr>\n",
       "      <th>1</th>\n",
       "      <td>0.988602</td>\n",
       "      <td>0.982748</td>\n",
       "      <td>1.007082</td>\n",
       "      <td>1.003123</td>\n",
       "      <td>0.998633</td>\n",
       "      <td>0.999972</td>\n",
       "      <td>1.017685</td>\n",
       "      <td>1.002958</td>\n",
       "      <td>1.012532</td>\n",
       "      <td>0.991634</td>\n",
       "      <td>...</td>\n",
       "      <td>1.006252</td>\n",
       "      <td>0.997647</td>\n",
       "      <td>1.003305</td>\n",
       "      <td>0.992406</td>\n",
       "      <td>1.000691</td>\n",
       "      <td>1.013060</td>\n",
       "      <td>0.998592</td>\n",
       "      <td>0.993058</td>\n",
       "      <td>0.996739</td>\n",
       "      <td>1.004857</td>\n",
       "    </tr>\n",
       "    <tr>\n",
       "      <th>2</th>\n",
       "      <td>0.990413</td>\n",
       "      <td>0.985959</td>\n",
       "      <td>0.995963</td>\n",
       "      <td>0.987074</td>\n",
       "      <td>1.001490</td>\n",
       "      <td>0.991627</td>\n",
       "      <td>1.032766</td>\n",
       "      <td>1.005237</td>\n",
       "      <td>1.014666</td>\n",
       "      <td>0.991750</td>\n",
       "      <td>...</td>\n",
       "      <td>1.009929</td>\n",
       "      <td>1.008619</td>\n",
       "      <td>1.012134</td>\n",
       "      <td>1.006660</td>\n",
       "      <td>0.994961</td>\n",
       "      <td>1.008456</td>\n",
       "      <td>0.998514</td>\n",
       "      <td>0.998325</td>\n",
       "      <td>0.997728</td>\n",
       "      <td>0.999985</td>\n",
       "    </tr>\n",
       "    <tr>\n",
       "      <th>3</th>\n",
       "      <td>0.989405</td>\n",
       "      <td>0.984085</td>\n",
       "      <td>1.003721</td>\n",
       "      <td>0.987322</td>\n",
       "      <td>1.013288</td>\n",
       "      <td>0.995668</td>\n",
       "      <td>1.038514</td>\n",
       "      <td>1.003389</td>\n",
       "      <td>1.017567</td>\n",
       "      <td>0.988482</td>\n",
       "      <td>...</td>\n",
       "      <td>1.004543</td>\n",
       "      <td>1.013099</td>\n",
       "      <td>1.030295</td>\n",
       "      <td>1.015480</td>\n",
       "      <td>0.998546</td>\n",
       "      <td>0.996180</td>\n",
       "      <td>0.993269</td>\n",
       "      <td>1.012234</td>\n",
       "      <td>0.996148</td>\n",
       "      <td>0.992721</td>\n",
       "    </tr>\n",
       "    <tr>\n",
       "      <th>4</th>\n",
       "      <td>0.992737</td>\n",
       "      <td>0.965932</td>\n",
       "      <td>1.013890</td>\n",
       "      <td>0.994908</td>\n",
       "      <td>1.003803</td>\n",
       "      <td>0.995618</td>\n",
       "      <td>1.041132</td>\n",
       "      <td>0.999403</td>\n",
       "      <td>1.030930</td>\n",
       "      <td>0.990926</td>\n",
       "      <td>...</td>\n",
       "      <td>0.999912</td>\n",
       "      <td>1.011986</td>\n",
       "      <td>1.034166</td>\n",
       "      <td>1.018724</td>\n",
       "      <td>1.011421</td>\n",
       "      <td>0.992804</td>\n",
       "      <td>0.993855</td>\n",
       "      <td>1.017420</td>\n",
       "      <td>0.999930</td>\n",
       "      <td>1.000897</td>\n",
       "    </tr>\n",
       "    <tr>\n",
       "      <th>...</th>\n",
       "      <td>...</td>\n",
       "      <td>...</td>\n",
       "      <td>...</td>\n",
       "      <td>...</td>\n",
       "      <td>...</td>\n",
       "      <td>...</td>\n",
       "      <td>...</td>\n",
       "      <td>...</td>\n",
       "      <td>...</td>\n",
       "      <td>...</td>\n",
       "      <td>...</td>\n",
       "      <td>...</td>\n",
       "      <td>...</td>\n",
       "      <td>...</td>\n",
       "      <td>...</td>\n",
       "      <td>...</td>\n",
       "      <td>...</td>\n",
       "      <td>...</td>\n",
       "      <td>...</td>\n",
       "      <td>...</td>\n",
       "      <td>...</td>\n",
       "    </tr>\n",
       "    <tr>\n",
       "      <th>1256</th>\n",
       "      <td>1.571403</td>\n",
       "      <td>1.087584</td>\n",
       "      <td>2.431100</td>\n",
       "      <td>1.357964</td>\n",
       "      <td>1.747964</td>\n",
       "      <td>1.641812</td>\n",
       "      <td>1.805405</td>\n",
       "      <td>1.115449</td>\n",
       "      <td>1.427612</td>\n",
       "      <td>2.402725</td>\n",
       "      <td>...</td>\n",
       "      <td>1.684659</td>\n",
       "      <td>2.462315</td>\n",
       "      <td>1.410788</td>\n",
       "      <td>1.868679</td>\n",
       "      <td>1.450650</td>\n",
       "      <td>1.512518</td>\n",
       "      <td>1.490962</td>\n",
       "      <td>1.958786</td>\n",
       "      <td>1.696044</td>\n",
       "      <td>1.873195</td>\n",
       "    </tr>\n",
       "    <tr>\n",
       "      <th>1257</th>\n",
       "      <td>1.551336</td>\n",
       "      <td>1.094030</td>\n",
       "      <td>2.417647</td>\n",
       "      <td>1.366289</td>\n",
       "      <td>1.747470</td>\n",
       "      <td>1.649728</td>\n",
       "      <td>1.796665</td>\n",
       "      <td>1.120125</td>\n",
       "      <td>1.434522</td>\n",
       "      <td>2.374531</td>\n",
       "      <td>...</td>\n",
       "      <td>1.679315</td>\n",
       "      <td>2.456375</td>\n",
       "      <td>1.402123</td>\n",
       "      <td>1.854436</td>\n",
       "      <td>1.426020</td>\n",
       "      <td>1.536450</td>\n",
       "      <td>1.490665</td>\n",
       "      <td>1.976025</td>\n",
       "      <td>1.683797</td>\n",
       "      <td>1.858585</td>\n",
       "    </tr>\n",
       "    <tr>\n",
       "      <th>1258</th>\n",
       "      <td>1.580305</td>\n",
       "      <td>1.089497</td>\n",
       "      <td>2.428215</td>\n",
       "      <td>1.385715</td>\n",
       "      <td>1.755273</td>\n",
       "      <td>1.665904</td>\n",
       "      <td>1.786320</td>\n",
       "      <td>1.127908</td>\n",
       "      <td>1.443917</td>\n",
       "      <td>2.401560</td>\n",
       "      <td>...</td>\n",
       "      <td>1.646979</td>\n",
       "      <td>2.439123</td>\n",
       "      <td>1.403689</td>\n",
       "      <td>1.852554</td>\n",
       "      <td>1.417990</td>\n",
       "      <td>1.545824</td>\n",
       "      <td>1.490346</td>\n",
       "      <td>1.986453</td>\n",
       "      <td>1.712862</td>\n",
       "      <td>1.841596</td>\n",
       "    </tr>\n",
       "    <tr>\n",
       "      <th>1259</th>\n",
       "      <td>1.557408</td>\n",
       "      <td>1.088193</td>\n",
       "      <td>2.432330</td>\n",
       "      <td>1.399041</td>\n",
       "      <td>1.740396</td>\n",
       "      <td>1.656632</td>\n",
       "      <td>1.773800</td>\n",
       "      <td>1.148349</td>\n",
       "      <td>1.450853</td>\n",
       "      <td>2.369333</td>\n",
       "      <td>...</td>\n",
       "      <td>1.646206</td>\n",
       "      <td>2.450395</td>\n",
       "      <td>1.401119</td>\n",
       "      <td>1.854714</td>\n",
       "      <td>1.412779</td>\n",
       "      <td>1.541305</td>\n",
       "      <td>1.470418</td>\n",
       "      <td>1.976173</td>\n",
       "      <td>1.740842</td>\n",
       "      <td>1.842495</td>\n",
       "    </tr>\n",
       "    <tr>\n",
       "      <th>1260</th>\n",
       "      <td>1.547212</td>\n",
       "      <td>1.104573</td>\n",
       "      <td>2.435594</td>\n",
       "      <td>1.376533</td>\n",
       "      <td>1.732219</td>\n",
       "      <td>1.654499</td>\n",
       "      <td>1.772410</td>\n",
       "      <td>1.149458</td>\n",
       "      <td>1.449917</td>\n",
       "      <td>2.368657</td>\n",
       "      <td>...</td>\n",
       "      <td>1.642260</td>\n",
       "      <td>2.474319</td>\n",
       "      <td>1.416458</td>\n",
       "      <td>1.860518</td>\n",
       "      <td>1.415601</td>\n",
       "      <td>1.544893</td>\n",
       "      <td>1.470879</td>\n",
       "      <td>1.938785</td>\n",
       "      <td>1.766942</td>\n",
       "      <td>1.829748</td>\n",
       "    </tr>\n",
       "  </tbody>\n",
       "</table>\n",
       "<p>1261 rows × 500 columns</p>\n",
       "</div>"
      ],
      "text/plain": [
       "           0         1         2         3         4         5         6    \\\n",
       "0     1.000000  1.000000  1.000000  1.000000  1.000000  1.000000  1.000000   \n",
       "1     0.988602  0.982748  1.007082  1.003123  0.998633  0.999972  1.017685   \n",
       "2     0.990413  0.985959  0.995963  0.987074  1.001490  0.991627  1.032766   \n",
       "3     0.989405  0.984085  1.003721  0.987322  1.013288  0.995668  1.038514   \n",
       "4     0.992737  0.965932  1.013890  0.994908  1.003803  0.995618  1.041132   \n",
       "...        ...       ...       ...       ...       ...       ...       ...   \n",
       "1256  1.571403  1.087584  2.431100  1.357964  1.747964  1.641812  1.805405   \n",
       "1257  1.551336  1.094030  2.417647  1.366289  1.747470  1.649728  1.796665   \n",
       "1258  1.580305  1.089497  2.428215  1.385715  1.755273  1.665904  1.786320   \n",
       "1259  1.557408  1.088193  2.432330  1.399041  1.740396  1.656632  1.773800   \n",
       "1260  1.547212  1.104573  2.435594  1.376533  1.732219  1.654499  1.772410   \n",
       "\n",
       "           7         8         9    ...       490       491       492  \\\n",
       "0     1.000000  1.000000  1.000000  ...  1.000000  1.000000  1.000000   \n",
       "1     1.002958  1.012532  0.991634  ...  1.006252  0.997647  1.003305   \n",
       "2     1.005237  1.014666  0.991750  ...  1.009929  1.008619  1.012134   \n",
       "3     1.003389  1.017567  0.988482  ...  1.004543  1.013099  1.030295   \n",
       "4     0.999403  1.030930  0.990926  ...  0.999912  1.011986  1.034166   \n",
       "...        ...       ...       ...  ...       ...       ...       ...   \n",
       "1256  1.115449  1.427612  2.402725  ...  1.684659  2.462315  1.410788   \n",
       "1257  1.120125  1.434522  2.374531  ...  1.679315  2.456375  1.402123   \n",
       "1258  1.127908  1.443917  2.401560  ...  1.646979  2.439123  1.403689   \n",
       "1259  1.148349  1.450853  2.369333  ...  1.646206  2.450395  1.401119   \n",
       "1260  1.149458  1.449917  2.368657  ...  1.642260  2.474319  1.416458   \n",
       "\n",
       "           493       494       495       496       497       498       499  \n",
       "0     1.000000  1.000000  1.000000  1.000000  1.000000  1.000000  1.000000  \n",
       "1     0.992406  1.000691  1.013060  0.998592  0.993058  0.996739  1.004857  \n",
       "2     1.006660  0.994961  1.008456  0.998514  0.998325  0.997728  0.999985  \n",
       "3     1.015480  0.998546  0.996180  0.993269  1.012234  0.996148  0.992721  \n",
       "4     1.018724  1.011421  0.992804  0.993855  1.017420  0.999930  1.000897  \n",
       "...        ...       ...       ...       ...       ...       ...       ...  \n",
       "1256  1.868679  1.450650  1.512518  1.490962  1.958786  1.696044  1.873195  \n",
       "1257  1.854436  1.426020  1.536450  1.490665  1.976025  1.683797  1.858585  \n",
       "1258  1.852554  1.417990  1.545824  1.490346  1.986453  1.712862  1.841596  \n",
       "1259  1.854714  1.412779  1.541305  1.470418  1.976173  1.740842  1.842495  \n",
       "1260  1.860518  1.415601  1.544893  1.470879  1.938785  1.766942  1.829748  \n",
       "\n",
       "[1261 rows x 500 columns]"
      ]
     },
     "execution_count": 53,
     "metadata": {},
     "output_type": "execute_result"
    }
   ],
   "source": [
    "# Running a Monte Carlo simulation to forecast 5 years cumulative returns\n",
    "monte_carlo2.calc_cumulative_return()"
   ]
  },
  {
   "cell_type": "code",
   "execution_count": 54,
   "metadata": {},
   "outputs": [
    {
     "data": {
      "text/plain": [
       "<AxesSubplot:title={'center':'500 Simulations of Cumulative Portfolio Return Trajectories Over the Next 1260 Trading Days.'}>"
      ]
     },
     "execution_count": 54,
     "metadata": {},
     "output_type": "execute_result"
    },
    {
     "data": {
      "image/png": "[encoded data removed]",
      "text/plain": [
       "<Figure size 432x288 with 1 Axes>"
      ]
     },
     "metadata": {
      "needs_background": "light"
     },
     "output_type": "display_data"
    }
   ],
   "source": [
    "# Plot simulation outcomes\n",
    "monte_carlo2.plot_simulation()"
   ]
  },
  {
   "cell_type": "code",
   "execution_count": 57,
   "metadata": {},
   "outputs": [
    {
     "data": {
      "text/plain": [
       "<AxesSubplot:title={'center':'Distribution of Final Cumuluative Returns Across All 500 Simulations'}, ylabel='Frequency'>"
      ]
     },
     "execution_count": 57,
     "metadata": {},
     "output_type": "execute_result"
    },
    {
     "data": {
      "image/png": "[encoded data removed]",
      "text/plain": [
       "<Figure size 432x288 with 1 Axes>"
      ]
     },
     "metadata": {
      "needs_background": "light"
     },
     "output_type": "display_data"
    }
   ],
   "source": [
    "# Plot probability distribution and confidence intervals\n",
    "monte_carlo2.plot_distribution()"
   ]
  },
  {
   "cell_type": "code",
   "execution_count": 58,
   "metadata": {},
   "outputs": [
    {
     "name": "stdout",
     "output_type": "stream",
     "text": [
      "count           500.000000\n",
      "mean              1.685718\n",
      "std               0.478112\n",
      "min               0.734700\n",
      "25%               1.347548\n",
      "50%               1.640107\n",
      "75%               1.973657\n",
      "max               3.764866\n",
      "95% CI Lower      0.961007\n",
      "95% CI Upper      2.703241\n",
      "Name: 1260, dtype: float64\n"
     ]
    }
   ],
   "source": [
    "# Fetch summary statistics from the Monte Carlo simulation results\n",
    "tbl2 = monte_carlo2.summarize_cumulative_return()\n",
    "\n",
    "# Print summary statistics\n",
    "print(tbl2)"
   ]
  },
  {
   "cell_type": "code",
   "execution_count": 65,
   "metadata": {},
   "outputs": [
    {
     "name": "stdout",
     "output_type": "stream",
     "text": [
      "There is a 95% chance that an initial investment of $30000.0 in the portfolio over the next 5 years will end within in the range of $255798.34 and $3507907.77\n"
     ]
    }
   ],
   "source": [
    "# Set initial investment\n",
    "initial_investment2 = 50000\n",
    "\n",
    "# Use the lower and upper `95%` confidence intervals to calculate the range of the possible outcomes of our $60,000\n",
    "ci_lower_five = round(tbl[8]*initial_investment2,2)\n",
    "ci_upper_five = round(tbl[9]*initial_investment2,2)\n",
    "\n",
    "# Print results\n",
    "print(f\"There is a 95% chance that an initial investment of ${initial_investment} in the portfolio\"\n",
    "      f\" over the next 5 years will end within in the range of\"\n",
    "      f\" ${ci_lower_five} and ${ci_upper_five}\")"
   ]
  },
  {
   "cell_type": "markdown",
   "metadata": {},
   "source": [
    "### Ten Years Retirement Option"
   ]
  },
  {
   "cell_type": "code",
   "execution_count": 60,
   "metadata": {},
   "outputs": [],
   "source": [
    "# Configuring a Monte Carlo simulation to forecast 10 years cumulative returns\n",
    "monte_carlo3= MCSimulation(\n",
    "    portfolio_data = df_stock_data,\n",
    "    weights = [.4, .6],\n",
    "    num_simulation = 500,\n",
    "    num_trading_days = 252*10\n",
    ")"
   ]
  },
  {
   "cell_type": "code",
   "execution_count": 61,
   "metadata": {},
   "outputs": [
    {
     "name": "stdout",
     "output_type": "stream",
     "text": [
      "Running Monte Carlo simulation number 0.\n",
      "Running Monte Carlo simulation number 10.\n",
      "Running Monte Carlo simulation number 20.\n",
      "Running Monte Carlo simulation number 30.\n",
      "Running Monte Carlo simulation number 40.\n",
      "Running Monte Carlo simulation number 50.\n",
      "Running Monte Carlo simulation number 60.\n",
      "Running Monte Carlo simulation number 70.\n",
      "Running Monte Carlo simulation number 80.\n",
      "Running Monte Carlo simulation number 90.\n",
      "Running Monte Carlo simulation number 100.\n"
     ]
    },
    {
     "name": "stderr",
     "output_type": "stream",
     "text": [
      "C:\\Users\\Sarah\\desktop\\Homework\\Homework-5---Financial-Planning\\MCForecastTools.py:117: PerformanceWarning: DataFrame is highly fragmented.  This is usually the result of calling `frame.insert` many times, which has poor performance.  Consider joining all columns at once using pd.concat(axis=1) instead.  To get a de-fragmented frame, use `newframe = frame.copy()`\n",
      "  portfolio_cumulative_returns[n] = (1 + sim_df.fillna(0)).cumprod()\n"
     ]
    },
    {
     "name": "stdout",
     "output_type": "stream",
     "text": [
      "Running Monte Carlo simulation number 110.\n",
      "Running Monte Carlo simulation number 120.\n",
      "Running Monte Carlo simulation number 130.\n",
      "Running Monte Carlo simulation number 140.\n",
      "Running Monte Carlo simulation number 150.\n",
      "Running Monte Carlo simulation number 160.\n",
      "Running Monte Carlo simulation number 170.\n",
      "Running Monte Carlo simulation number 180.\n",
      "Running Monte Carlo simulation number 190.\n",
      "Running Monte Carlo simulation number 200.\n",
      "Running Monte Carlo simulation number 210.\n",
      "Running Monte Carlo simulation number 220.\n",
      "Running Monte Carlo simulation number 230.\n",
      "Running Monte Carlo simulation number 240.\n",
      "Running Monte Carlo simulation number 250.\n",
      "Running Monte Carlo simulation number 260.\n",
      "Running Monte Carlo simulation number 270.\n",
      "Running Monte Carlo simulation number 280.\n",
      "Running Monte Carlo simulation number 290.\n",
      "Running Monte Carlo simulation number 300.\n",
      "Running Monte Carlo simulation number 310.\n",
      "Running Monte Carlo simulation number 320.\n",
      "Running Monte Carlo simulation number 330.\n",
      "Running Monte Carlo simulation number 340.\n",
      "Running Monte Carlo simulation number 350.\n",
      "Running Monte Carlo simulation number 360.\n",
      "Running Monte Carlo simulation number 370.\n",
      "Running Monte Carlo simulation number 380.\n",
      "Running Monte Carlo simulation number 390.\n",
      "Running Monte Carlo simulation number 400.\n",
      "Running Monte Carlo simulation number 410.\n",
      "Running Monte Carlo simulation number 420.\n",
      "Running Monte Carlo simulation number 430.\n",
      "Running Monte Carlo simulation number 440.\n",
      "Running Monte Carlo simulation number 450.\n",
      "Running Monte Carlo simulation number 460.\n",
      "Running Monte Carlo simulation number 470.\n",
      "Running Monte Carlo simulation number 480.\n",
      "Running Monte Carlo simulation number 490.\n"
     ]
    },
    {
     "data": {
      "text/html": [
       "<div>\n",
       "<style scoped>\n",
       "    .dataframe tbody tr th:only-of-type {\n",
       "        vertical-align: middle;\n",
       "    }\n",
       "\n",
       "    .dataframe tbody tr th {\n",
       "        vertical-align: top;\n",
       "    }\n",
       "\n",
       "    .dataframe thead th {\n",
       "        text-align: right;\n",
       "    }\n",
       "</style>\n",
       "<table border=\"1\" class=\"dataframe\">\n",
       "  <thead>\n",
       "    <tr style=\"text-align: right;\">\n",
       "      <th></th>\n",
       "      <th>0</th>\n",
       "      <th>1</th>\n",
       "      <th>2</th>\n",
       "      <th>3</th>\n",
       "      <th>4</th>\n",
       "      <th>5</th>\n",
       "      <th>6</th>\n",
       "      <th>7</th>\n",
       "      <th>8</th>\n",
       "      <th>9</th>\n",
       "      <th>...</th>\n",
       "      <th>490</th>\n",
       "      <th>491</th>\n",
       "      <th>492</th>\n",
       "      <th>493</th>\n",
       "      <th>494</th>\n",
       "      <th>495</th>\n",
       "      <th>496</th>\n",
       "      <th>497</th>\n",
       "      <th>498</th>\n",
       "      <th>499</th>\n",
       "    </tr>\n",
       "  </thead>\n",
       "  <tbody>\n",
       "    <tr>\n",
       "      <th>0</th>\n",
       "      <td>1.000000</td>\n",
       "      <td>1.000000</td>\n",
       "      <td>1.000000</td>\n",
       "      <td>1.000000</td>\n",
       "      <td>1.000000</td>\n",
       "      <td>1.000000</td>\n",
       "      <td>1.000000</td>\n",
       "      <td>1.000000</td>\n",
       "      <td>1.000000</td>\n",
       "      <td>1.000000</td>\n",
       "      <td>...</td>\n",
       "      <td>1.000000</td>\n",
       "      <td>1.000000</td>\n",
       "      <td>1.000000</td>\n",
       "      <td>1.000000</td>\n",
       "      <td>1.000000</td>\n",
       "      <td>1.000000</td>\n",
       "      <td>1.000000</td>\n",
       "      <td>1.000000</td>\n",
       "      <td>1.000000</td>\n",
       "      <td>1.000000</td>\n",
       "    </tr>\n",
       "    <tr>\n",
       "      <th>1</th>\n",
       "      <td>0.990531</td>\n",
       "      <td>1.003780</td>\n",
       "      <td>0.997497</td>\n",
       "      <td>0.988341</td>\n",
       "      <td>0.993532</td>\n",
       "      <td>0.992792</td>\n",
       "      <td>0.999123</td>\n",
       "      <td>0.999079</td>\n",
       "      <td>0.983582</td>\n",
       "      <td>0.998201</td>\n",
       "      <td>...</td>\n",
       "      <td>1.001685</td>\n",
       "      <td>0.996913</td>\n",
       "      <td>0.999593</td>\n",
       "      <td>0.994115</td>\n",
       "      <td>1.004326</td>\n",
       "      <td>0.998463</td>\n",
       "      <td>0.999128</td>\n",
       "      <td>0.995494</td>\n",
       "      <td>1.002274</td>\n",
       "      <td>0.978459</td>\n",
       "    </tr>\n",
       "    <tr>\n",
       "      <th>2</th>\n",
       "      <td>0.982098</td>\n",
       "      <td>0.999988</td>\n",
       "      <td>0.998865</td>\n",
       "      <td>0.985990</td>\n",
       "      <td>0.986721</td>\n",
       "      <td>0.991694</td>\n",
       "      <td>1.005756</td>\n",
       "      <td>0.989221</td>\n",
       "      <td>0.983140</td>\n",
       "      <td>0.990103</td>\n",
       "      <td>...</td>\n",
       "      <td>1.000294</td>\n",
       "      <td>0.996103</td>\n",
       "      <td>0.991635</td>\n",
       "      <td>1.003341</td>\n",
       "      <td>0.990656</td>\n",
       "      <td>0.996472</td>\n",
       "      <td>1.001390</td>\n",
       "      <td>0.992441</td>\n",
       "      <td>1.026157</td>\n",
       "      <td>0.975861</td>\n",
       "    </tr>\n",
       "    <tr>\n",
       "      <th>3</th>\n",
       "      <td>0.977110</td>\n",
       "      <td>1.007274</td>\n",
       "      <td>1.007207</td>\n",
       "      <td>0.991642</td>\n",
       "      <td>0.990726</td>\n",
       "      <td>0.991627</td>\n",
       "      <td>0.998294</td>\n",
       "      <td>0.982173</td>\n",
       "      <td>0.989006</td>\n",
       "      <td>0.995547</td>\n",
       "      <td>...</td>\n",
       "      <td>0.996583</td>\n",
       "      <td>0.994019</td>\n",
       "      <td>1.004525</td>\n",
       "      <td>1.008981</td>\n",
       "      <td>0.993234</td>\n",
       "      <td>0.983224</td>\n",
       "      <td>1.004651</td>\n",
       "      <td>0.986409</td>\n",
       "      <td>1.022213</td>\n",
       "      <td>0.981683</td>\n",
       "    </tr>\n",
       "    <tr>\n",
       "      <th>4</th>\n",
       "      <td>0.982484</td>\n",
       "      <td>1.014854</td>\n",
       "      <td>1.012779</td>\n",
       "      <td>1.009681</td>\n",
       "      <td>0.981898</td>\n",
       "      <td>0.979849</td>\n",
       "      <td>0.981369</td>\n",
       "      <td>0.983441</td>\n",
       "      <td>0.990291</td>\n",
       "      <td>1.001774</td>\n",
       "      <td>...</td>\n",
       "      <td>0.985773</td>\n",
       "      <td>0.996950</td>\n",
       "      <td>1.005928</td>\n",
       "      <td>0.994687</td>\n",
       "      <td>0.990401</td>\n",
       "      <td>0.974829</td>\n",
       "      <td>0.994225</td>\n",
       "      <td>0.989274</td>\n",
       "      <td>1.032679</td>\n",
       "      <td>0.977781</td>\n",
       "    </tr>\n",
       "    <tr>\n",
       "      <th>...</th>\n",
       "      <td>...</td>\n",
       "      <td>...</td>\n",
       "      <td>...</td>\n",
       "      <td>...</td>\n",
       "      <td>...</td>\n",
       "      <td>...</td>\n",
       "      <td>...</td>\n",
       "      <td>...</td>\n",
       "      <td>...</td>\n",
       "      <td>...</td>\n",
       "      <td>...</td>\n",
       "      <td>...</td>\n",
       "      <td>...</td>\n",
       "      <td>...</td>\n",
       "      <td>...</td>\n",
       "      <td>...</td>\n",
       "      <td>...</td>\n",
       "      <td>...</td>\n",
       "      <td>...</td>\n",
       "      <td>...</td>\n",
       "      <td>...</td>\n",
       "    </tr>\n",
       "    <tr>\n",
       "      <th>2516</th>\n",
       "      <td>4.769393</td>\n",
       "      <td>3.115952</td>\n",
       "      <td>2.870205</td>\n",
       "      <td>3.108978</td>\n",
       "      <td>1.859947</td>\n",
       "      <td>5.424893</td>\n",
       "      <td>0.788107</td>\n",
       "      <td>3.833166</td>\n",
       "      <td>3.807214</td>\n",
       "      <td>4.780107</td>\n",
       "      <td>...</td>\n",
       "      <td>3.328877</td>\n",
       "      <td>2.931921</td>\n",
       "      <td>2.883639</td>\n",
       "      <td>3.326732</td>\n",
       "      <td>3.696195</td>\n",
       "      <td>2.206010</td>\n",
       "      <td>3.336580</td>\n",
       "      <td>1.794930</td>\n",
       "      <td>2.928641</td>\n",
       "      <td>3.734153</td>\n",
       "    </tr>\n",
       "    <tr>\n",
       "      <th>2517</th>\n",
       "      <td>4.761375</td>\n",
       "      <td>3.126493</td>\n",
       "      <td>2.898483</td>\n",
       "      <td>3.108673</td>\n",
       "      <td>1.858354</td>\n",
       "      <td>5.388736</td>\n",
       "      <td>0.789949</td>\n",
       "      <td>3.850439</td>\n",
       "      <td>3.817439</td>\n",
       "      <td>4.750083</td>\n",
       "      <td>...</td>\n",
       "      <td>3.320441</td>\n",
       "      <td>2.940411</td>\n",
       "      <td>2.885479</td>\n",
       "      <td>3.329216</td>\n",
       "      <td>3.676398</td>\n",
       "      <td>2.183546</td>\n",
       "      <td>3.382360</td>\n",
       "      <td>1.807031</td>\n",
       "      <td>2.946622</td>\n",
       "      <td>3.740324</td>\n",
       "    </tr>\n",
       "    <tr>\n",
       "      <th>2518</th>\n",
       "      <td>4.829117</td>\n",
       "      <td>3.144314</td>\n",
       "      <td>2.907751</td>\n",
       "      <td>3.106660</td>\n",
       "      <td>1.831914</td>\n",
       "      <td>5.397295</td>\n",
       "      <td>0.796407</td>\n",
       "      <td>3.840023</td>\n",
       "      <td>3.871507</td>\n",
       "      <td>4.784993</td>\n",
       "      <td>...</td>\n",
       "      <td>3.310369</td>\n",
       "      <td>2.899039</td>\n",
       "      <td>2.867932</td>\n",
       "      <td>3.327355</td>\n",
       "      <td>3.717260</td>\n",
       "      <td>2.175685</td>\n",
       "      <td>3.411368</td>\n",
       "      <td>1.809835</td>\n",
       "      <td>2.934576</td>\n",
       "      <td>3.770596</td>\n",
       "    </tr>\n",
       "    <tr>\n",
       "      <th>2519</th>\n",
       "      <td>4.793237</td>\n",
       "      <td>3.127146</td>\n",
       "      <td>2.871376</td>\n",
       "      <td>3.090368</td>\n",
       "      <td>1.842098</td>\n",
       "      <td>5.371295</td>\n",
       "      <td>0.795935</td>\n",
       "      <td>3.832297</td>\n",
       "      <td>3.855255</td>\n",
       "      <td>4.800151</td>\n",
       "      <td>...</td>\n",
       "      <td>3.264264</td>\n",
       "      <td>2.906742</td>\n",
       "      <td>2.850648</td>\n",
       "      <td>3.308696</td>\n",
       "      <td>3.662067</td>\n",
       "      <td>2.168130</td>\n",
       "      <td>3.382989</td>\n",
       "      <td>1.796903</td>\n",
       "      <td>2.921001</td>\n",
       "      <td>3.777353</td>\n",
       "    </tr>\n",
       "    <tr>\n",
       "      <th>2520</th>\n",
       "      <td>4.866453</td>\n",
       "      <td>3.104614</td>\n",
       "      <td>2.839397</td>\n",
       "      <td>3.133820</td>\n",
       "      <td>1.819905</td>\n",
       "      <td>5.361649</td>\n",
       "      <td>0.792354</td>\n",
       "      <td>3.803145</td>\n",
       "      <td>3.813654</td>\n",
       "      <td>4.800242</td>\n",
       "      <td>...</td>\n",
       "      <td>3.229354</td>\n",
       "      <td>2.912629</td>\n",
       "      <td>2.837937</td>\n",
       "      <td>3.335216</td>\n",
       "      <td>3.639692</td>\n",
       "      <td>2.159636</td>\n",
       "      <td>3.359639</td>\n",
       "      <td>1.809607</td>\n",
       "      <td>2.934888</td>\n",
       "      <td>3.761065</td>\n",
       "    </tr>\n",
       "  </tbody>\n",
       "</table>\n",
       "<p>2521 rows × 500 columns</p>\n",
       "</div>"
      ],
      "text/plain": [
       "           0         1         2         3         4         5         6    \\\n",
       "0     1.000000  1.000000  1.000000  1.000000  1.000000  1.000000  1.000000   \n",
       "1     0.990531  1.003780  0.997497  0.988341  0.993532  0.992792  0.999123   \n",
       "2     0.982098  0.999988  0.998865  0.985990  0.986721  0.991694  1.005756   \n",
       "3     0.977110  1.007274  1.007207  0.991642  0.990726  0.991627  0.998294   \n",
       "4     0.982484  1.014854  1.012779  1.009681  0.981898  0.979849  0.981369   \n",
       "...        ...       ...       ...       ...       ...       ...       ...   \n",
       "2516  4.769393  3.115952  2.870205  3.108978  1.859947  5.424893  0.788107   \n",
       "2517  4.761375  3.126493  2.898483  3.108673  1.858354  5.388736  0.789949   \n",
       "2518  4.829117  3.144314  2.907751  3.106660  1.831914  5.397295  0.796407   \n",
       "2519  4.793237  3.127146  2.871376  3.090368  1.842098  5.371295  0.795935   \n",
       "2520  4.866453  3.104614  2.839397  3.133820  1.819905  5.361649  0.792354   \n",
       "\n",
       "           7         8         9    ...       490       491       492  \\\n",
       "0     1.000000  1.000000  1.000000  ...  1.000000  1.000000  1.000000   \n",
       "1     0.999079  0.983582  0.998201  ...  1.001685  0.996913  0.999593   \n",
       "2     0.989221  0.983140  0.990103  ...  1.000294  0.996103  0.991635   \n",
       "3     0.982173  0.989006  0.995547  ...  0.996583  0.994019  1.004525   \n",
       "4     0.983441  0.990291  1.001774  ...  0.985773  0.996950  1.005928   \n",
       "...        ...       ...       ...  ...       ...       ...       ...   \n",
       "2516  3.833166  3.807214  4.780107  ...  3.328877  2.931921  2.883639   \n",
       "2517  3.850439  3.817439  4.750083  ...  3.320441  2.940411  2.885479   \n",
       "2518  3.840023  3.871507  4.784993  ...  3.310369  2.899039  2.867932   \n",
       "2519  3.832297  3.855255  4.800151  ...  3.264264  2.906742  2.850648   \n",
       "2520  3.803145  3.813654  4.800242  ...  3.229354  2.912629  2.837937   \n",
       "\n",
       "           493       494       495       496       497       498       499  \n",
       "0     1.000000  1.000000  1.000000  1.000000  1.000000  1.000000  1.000000  \n",
       "1     0.994115  1.004326  0.998463  0.999128  0.995494  1.002274  0.978459  \n",
       "2     1.003341  0.990656  0.996472  1.001390  0.992441  1.026157  0.975861  \n",
       "3     1.008981  0.993234  0.983224  1.004651  0.986409  1.022213  0.981683  \n",
       "4     0.994687  0.990401  0.974829  0.994225  0.989274  1.032679  0.977781  \n",
       "...        ...       ...       ...       ...       ...       ...       ...  \n",
       "2516  3.326732  3.696195  2.206010  3.336580  1.794930  2.928641  3.734153  \n",
       "2517  3.329216  3.676398  2.183546  3.382360  1.807031  2.946622  3.740324  \n",
       "2518  3.327355  3.717260  2.175685  3.411368  1.809835  2.934576  3.770596  \n",
       "2519  3.308696  3.662067  2.168130  3.382989  1.796903  2.921001  3.777353  \n",
       "2520  3.335216  3.639692  2.159636  3.359639  1.809607  2.934888  3.761065  \n",
       "\n",
       "[2521 rows x 500 columns]"
      ]
     },
     "execution_count": 61,
     "metadata": {},
     "output_type": "execute_result"
    }
   ],
   "source": [
    "# Running a Monte Carlo simulation to forecast 10 years cumulative returns\n",
    "monte_carlo3.calc_cumulative_return()"
   ]
  },
  {
   "cell_type": "code",
   "execution_count": 32,
   "metadata": {},
   "outputs": [
    {
     "data": {
      "image/png": "[encoded data removed]",
      "text/plain": [
       "<Figure size 432x288 with 1 Axes>"
      ]
     },
     "metadata": {
      "needs_background": "light"
     },
     "output_type": "display_data"
    }
   ],
   "source": [
    "# Plot simulation outcomes\n",
    "monte_carlo3.plot_simulation()"
   ]
  },
  {
   "cell_type": "code",
   "execution_count": 62,
   "metadata": {},
   "outputs": [
    {
     "data": {
      "text/plain": [
       "<AxesSubplot:title={'center':'Distribution of Final Cumuluative Returns Across All 500 Simulations'}, ylabel='Frequency'>"
      ]
     },
     "execution_count": 62,
     "metadata": {},
     "output_type": "execute_result"
    },
    {
     "data": {
      "image/png": "[encoded data removed]",
      "text/plain": [
       "<Figure size 432x288 with 1 Axes>"
      ]
     },
     "metadata": {
      "needs_background": "light"
     },
     "output_type": "display_data"
    }
   ],
   "source": [
    "# Plot probability distribution and confidence intervals\n",
    "monte_carlo3.plot_distribution()"
   ]
  },
  {
   "cell_type": "code",
   "execution_count": 63,
   "metadata": {},
   "outputs": [
    {
     "name": "stdout",
     "output_type": "stream",
     "text": [
      "count           500.000000\n",
      "mean              2.826430\n",
      "std               1.209893\n",
      "min               0.713320\n",
      "25%               1.944781\n",
      "50%               2.599627\n",
      "75%               3.405876\n",
      "max               9.708693\n",
      "95% CI Lower      1.185204\n",
      "95% CI Upper      5.973033\n",
      "Name: 2520, dtype: float64\n"
     ]
    }
   ],
   "source": [
    "# Fetch summary statistics from the Monte Carlo simulation results\n",
    "tbl3 = monte_carlo3.summarize_cumulative_return()\n",
    "\n",
    "# Print summary statistics\n",
    "print(tbl3)"
   ]
  },
  {
   "cell_type": "code",
   "execution_count": 64,
   "metadata": {},
   "outputs": [
    {
     "name": "stdout",
     "output_type": "stream",
     "text": [
      "There is a 95% chance that an initial investment of $30000.0 in the portfolio over the next 10 years will end within in the range of $153479.0 and $2104744.66\n"
     ]
    }
   ],
   "source": [
    "# Set initial investment\n",
    "initial_investment3= 30000\n",
    "\n",
    "# Use the lower and upper `95%` confidence intervals to calculate the range of the possible outcomes of our $60,000\n",
    "ci_lower_ten = round(tbl[8]*initial_investment3,2)\n",
    "ci_upper_ten = round(tbl[9]*initial_investment3,2)\n",
    "\n",
    "# Print results\n",
    "print(f\"There is a 95% chance that an initial investment of ${initial_investment} in the portfolio\"\n",
    "      f\" over the next 10 years will end within in the range of\"\n",
    "      f\" ${ci_lower_ten} and ${ci_upper_ten}\")"
   ]
  },
  {
   "cell_type": "code",
   "execution_count": null,
   "metadata": {},
   "outputs": [],
   "source": []
  }
 ],
 "metadata": {
  "kernelspec": {
   "display_name": "Python 3 (ipykernel)",
   "language": "python",
   "name": "python3"
  },
  "language_info": {
   "codemirror_mode": {
    "name": "ipython",
    "version": 3
   },
   "file_extension": ".py",
   "mimetype": "text/x-python",
   "name": "python",
   "nbconvert_exporter": "python",
   "pygments_lexer": "ipython3",
   "version": "3.8.8"
  },
  "nteract": {
   "version": "0.28.0"
  }
 },
 "nbformat": 4,
 "nbformat_minor": 4
}
